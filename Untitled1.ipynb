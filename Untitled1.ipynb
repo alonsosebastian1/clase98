{
  "nbformat": 4,
  "nbformat_minor": 0,
  "metadata": {
    "colab": {
      "provenance": [],
      "authorship_tag": "ABX9TyOqF4Rztshc69p3UGPmBpSz",
      "include_colab_link": true
    },
    "kernelspec": {
      "name": "python3",
      "display_name": "Python 3"
    },
    "language_info": {
      "name": "python"
    }
  },
  "cells": [
    {
      "cell_type": "markdown",
      "metadata": {
        "id": "view-in-github",
        "colab_type": "text"
      },
      "source": [
        "<a href=\"https://colab.research.google.com/github/alonsosebastian1/clase98/blob/main/Untitled1.ipynb\" target=\"_parent\"><img src=\"https://colab.research.google.com/assets/colab-badge.svg\" alt=\"Open In Colab\"/></a>"
      ]
    },
    {
      "cell_type": "code",
      "execution_count": 2,
      "metadata": {
        "colab": {
          "base_uri": "https://localhost:8080/"
        },
        "id": "xPFsYXo1vyf1",
        "outputId": "ef0a5ca7-60be-47a3-ffa0-4a220e749f1e"
      },
      "outputs": [
        {
          "output_type": "stream",
          "name": "stdout",
          "text": [
            "1\n",
            "2\n",
            "3\n",
            "4\n"
          ]
        }
      ],
      "source": [
        "list_of_marks = [12,3,5,10,10,6,9,10,5,5,7,10,8,2,10,2,5]\n",
        "count = 0;\n",
        "check_num = 5\n",
        "for elem in list_of_marks :\n",
        "  if(check_num == elem):\n",
        "    count = count +1\n",
        "    print(count)"
      ]
    }
  ]
}